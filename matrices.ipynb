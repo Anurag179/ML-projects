{
  "nbformat": 4,
  "nbformat_minor": 0,
  "metadata": {
    "colab": {
      "provenance": []
    },
    "kernelspec": {
      "name": "python3",
      "display_name": "Python 3"
    },
    "language_info": {
      "name": "python"
    }
  },
  "cells": [
    {
      "cell_type": "code",
      "source": [
        "import tensorflow as tf "
      ],
      "metadata": {
        "id": "iIWKzq3FrMzo"
      },
      "execution_count": null,
      "outputs": []
    },
    {
      "cell_type": "code",
      "source": [
        "matrix_a = tf.constant([[1,2],[3,4]], dtype=tf.float32)\n",
        "matrix_b = tf.constant([[5,6],[7,8]], dtype=tf.float32)"
      ],
      "metadata": {
        "id": "zm7z4hZArac0"
      },
      "execution_count": null,
      "outputs": []
    },
    {
      "cell_type": "code",
      "source": [
        "result = tf.add(matrix_a,matrix_b)"
      ],
      "metadata": {
        "id": "tUjkT6Eo1_SA"
      },
      "execution_count": null,
      "outputs": []
    },
    {
      "cell_type": "code",
      "source": [
        "print(result)"
      ],
      "metadata": {
        "colab": {
          "base_uri": "https://localhost:8080/"
        },
        "id": "Eat0A9lw2nDu",
        "outputId": "942cadb3-a467-48c9-91cd-90f4e0c9e4f0"
      },
      "execution_count": null,
      "outputs": [
        {
          "output_type": "stream",
          "name": "stdout",
          "text": [
            "tf.Tensor(\n",
            "[[ 6.  8.]\n",
            " [10. 12.]], shape=(2, 2), dtype=float32)\n"
          ]
        }
      ]
    },
    {
      "cell_type": "code",
      "source": [
        "result = tf.matmul(matrix_a,matrix_b)"
      ],
      "metadata": {
        "id": "mCkNX0sR26uc"
      },
      "execution_count": null,
      "outputs": []
    },
    {
      "cell_type": "code",
      "source": [
        "print(result)"
      ],
      "metadata": {
        "colab": {
          "base_uri": "https://localhost:8080/"
        },
        "id": "CClnBnNx3Aem",
        "outputId": "611c8464-f199-41df-bfa2-db8b3ade0fb8"
      },
      "execution_count": null,
      "outputs": [
        {
          "output_type": "stream",
          "name": "stdout",
          "text": [
            "tf.Tensor(\n",
            "[[19. 22.]\n",
            " [43. 50.]], shape=(2, 2), dtype=float32)\n"
          ]
        }
      ]
    },
    {
      "cell_type": "code",
      "source": [
        "matrix = tf.constant([[1,2,3],[4,5,6]], dtype=tf.int32)\n"
      ],
      "metadata": {
        "id": "VbnfuhFB3HBP"
      },
      "execution_count": null,
      "outputs": []
    },
    {
      "cell_type": "code",
      "source": [
        "transposed_matrix = tf.transpose(matrix)"
      ],
      "metadata": {
        "id": "rQlLFtNI3Vf5"
      },
      "execution_count": null,
      "outputs": []
    },
    {
      "cell_type": "code",
      "source": [
        "print(\"Orignal matrix\")\n",
        "print(matrix.numpy())\n",
        "print(\"Transposed matrix\")\n",
        "print(transposed_matrix.numpy())"
      ],
      "metadata": {
        "colab": {
          "base_uri": "https://localhost:8080/"
        },
        "id": "LS4rnxaM3bTv",
        "outputId": "8ce8a952-1aad-4195-8029-3e82cf991985"
      },
      "execution_count": null,
      "outputs": [
        {
          "output_type": "stream",
          "name": "stdout",
          "text": [
            "Orignal matrix\n",
            "[[1 2 3]\n",
            " [4 5 6]]\n",
            "Transposed matrix\n",
            "[[1 4]\n",
            " [2 5]\n",
            " [3 6]]\n"
          ]
        }
      ]
    },
    {
      "cell_type": "code",
      "source": [],
      "metadata": {
        "id": "AoQ854ws3pzC"
      },
      "execution_count": null,
      "outputs": []
    }
  ]
}